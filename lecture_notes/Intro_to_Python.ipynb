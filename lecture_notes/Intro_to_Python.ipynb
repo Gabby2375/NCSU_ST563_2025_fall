{
  "nbformat": 4,
  "nbformat_minor": 5,
  "metadata": {
    "kernelspec": {
      "display_name": "Python 3",
      "language": "python",
      "name": "python3"
    },
    "language_info": {
      "name": "python",
      "version": "3.11.8",
      "mimetype": "text/x-python",
      "codemirror_mode": {
        "name": "ipython",
        "version": 3
      },
      "pygments_lexer": "ipython3",
      "nbconvert_exporter": "python",
      "file_extension": ".py"
    },
    "authors": [
      {
        "name": "Generated for ST 563"
      }
    ],
    "orig_source": "Translated from 'A Brief introduction to R' to Python, for ST 563.",
    "colab": {
      "provenance": []
    }
  },
  "cells": [
    {
      "cell_type": "markdown",
      "metadata": {
        "id": "EHZsEbzXQ0-t"
      },
      "source": [
        "# A Brief Introduction to Python (for ST 563)\n",
        "\n",
        "This notebook provides a **basic introduction to Python** for statistical learning, parallel to the structure of the original R handout from Dr. Arnab Maity. We use core Python along with **NumPy** (arrays, vector/matrix math) and **pandas** (data frames).\n"
      ],
      "id": "EHZsEbzXQ0-t"
    },
    {
      "cell_type": "markdown",
      "metadata": {
        "id": "hXt_OHqRQ0-2"
      },
      "source": [
        "## Contents\n",
        "1. [Python, Jupyter, and the Scientific Stack](#python-jupyter)\n",
        "2. [Basic Data Types in Python](#basic-types)\n",
        "3. [Variable Names and Assignment](#assignment)\n",
        "4. [Basic Operations](#basic-ops)\n",
        "5. [Relational Operations](#rel-ops)\n",
        "6. [Lists, Tuples, and Dictionaries](#lists-tuples-dicts)\n",
        "7. [NumPy Arrays (\"Vectors\")](#numpy-vectors)\n",
        "8. [Vector & Matrix Operations with NumPy](#vector-matrix)\n",
        "9. [pandas DataFrames](#dataframes)\n",
        "10. [Control Flow](#control-flow)\n",
        "11. [Functions](#functions)\n"
      ],
      "id": "hXt_OHqRQ0-2"
    },
    {
      "cell_type": "markdown",
      "metadata": {
        "id": "5TOimX_JQ0-4"
      },
      "source": [
        "## 1. Python, Jupyter, and Packages\n"
      ],
      "id": "5TOimX_JQ0-4"
    },
    {
      "cell_type": "markdown",
      "metadata": {
        "id": "9igQ7VDSQ0-4"
      },
      "source": [
        "- **Python** is an open-source programming language widely used in data science.\n",
        "- **Jupyter Notebook** lets you mix code, results, and narrative text (like this file).\n",
        "- We'll primarily use:\n",
        "  - `numpy` for efficient numerical arrays and linear algebra;\n",
        "  - `pandas` for tabular data (data frames);\n",
        "  - `math` and `statistics` from the standard library for basic math and stats helpers.\n",
        "\n",
        "> Tip: In most environments, install packages via `pip install numpy pandas` in a terminal.\n"
      ],
      "id": "9igQ7VDSQ0-4"
    },
    {
      "cell_type": "code",
      "metadata": {
        "id": "qVkfxxlXQ0-5"
      },
      "execution_count": null,
      "outputs": [],
      "source": [
        "import numpy as np\n",
        "import pandas as pd\n",
        "import math, statistics\n",
        "np.__version__, pd.__version__\n"
      ],
      "id": "qVkfxxlXQ0-5"
    },
    {
      "cell_type": "markdown",
      "metadata": {
        "id": "oyE3DtlDQ0-0"
      },
      "source": [
        "### Basic Use of Python\n",
        "\n",
        "- Jupyter notebooks contain **code cells** (for execution) and **markdown cells** (for formatted text).\n",
        "- Run code with `Shift+Enter`.\n",
        "- Python assignment `=` binds a name to an object in memory (different from R where assignment copies).\n",
        "- If you assign two names to the same list, both point to the same object unless you `.copy()` it.\n",
        "- Example:\n",
        "```python\n",
        "x = [1, 2, 3]\n",
        "y = x\n",
        "x[0] = 100\n",
        "print(x, y)  # both change!\n",
        "```\n"
      ],
      "id": "oyE3DtlDQ0-0"
    },
    {
      "cell_type": "markdown",
      "metadata": {
        "id": "IUsp9voUQ0-_"
      },
      "source": [
        "### Asking for Help <a id='help'></a>\n"
      ],
      "id": "IUsp9voUQ0-_"
    },
    {
      "cell_type": "markdown",
      "metadata": {
        "id": "QViCeuRRQ0_A"
      },
      "source": [
        "- Use built-ins like `help(obj)` and `dir(obj)`. In notebooks, you can also try `obj?` (in many IPython/Jupyter setups).\n"
      ],
      "id": "QViCeuRRQ0_A"
    },
    {
      "cell_type": "code",
      "metadata": {
        "id": "y7WVL5QfQ0_A"
      },
      "execution_count": null,
      "outputs": [],
      "source": [
        "help(len)      # show docstring for built-in len\n",
        "dir(math)      # attributes in the math module\n"
      ],
      "id": "y7WVL5QfQ0_A"
    },
    {
      "cell_type": "markdown",
      "metadata": {
        "id": "4qY0XXryQ0-8"
      },
      "source": [
        "## 2. Basic Data Types in Python <a id='basic-types'></a>\n"
      ],
      "id": "4qY0XXryQ0-8"
    },
    {
      "cell_type": "markdown",
      "metadata": {
        "id": "eCU-niO7Q0-9"
      },
      "source": [
        "### Numeric Types and Booleans\n",
        "\n",
        "- Python automatically distinguishes `int` and `float`:\n",
        "  - `10` is an `int`, `10.0` is a `float`.\n",
        "- Type casting: `int(10.9)` returns 10, `float(3)` returns 3.0.\n",
        "- Augmented assignment: `x += 1` is shorthand for `x = x + 1`.\n",
        "- Booleans are subtype of integers: `True == 1`, `False == 0`. Useful for summing conditions.\n",
        "```python\n",
        "sum([True, False, True])  # returns 2\n",
        "```\n",
        "- Floating-point precision may cause results like `0.1+0.2=0.30000000000000004`.\n"
      ],
      "id": "eCU-niO7Q0-9"
    },
    {
      "cell_type": "markdown",
      "metadata": {
        "id": "p-SHTX-EQ0-9"
      },
      "source": [
        "Common built-in scalar types:\n",
        "- `int` (e.g., `1`, `-3`), `float` (e.g., `2.0`, `-3.9`), `bool` (`True`, `False`), `str` (`\"Arnab\"`), and `complex` (e.g., `1+2j`).  \n",
        "(There is no separate \"raw\" type as in R; Python has `bytes` for raw byte sequences.)\n"
      ],
      "id": "p-SHTX-EQ0-9"
    },
    {
      "cell_type": "code",
      "metadata": {
        "id": "62q3Dp1JQ0--"
      },
      "execution_count": null,
      "outputs": [],
      "source": [
        "number = 2              # int\n",
        "flt = 2.5               # float\n",
        "name = \"Arnab\"          # str\n",
        "truth = True            # bool\n",
        "z = 1 + 2j              # complex\n",
        "\n",
        "print(type(number), type(flt), type(name), type(truth), type(z))\n"
      ],
      "id": "62q3Dp1JQ0--"
    },
    {
      "cell_type": "markdown",
      "metadata": {
        "id": "yq01Ce4WQ0--"
      },
      "source": [
        "## 3. Variable Names and Assignment <a id='assignment'></a>\n"
      ],
      "id": "yq01Ce4WQ0--"
    },
    {
      "cell_type": "markdown",
      "metadata": {
        "id": "8f_acv0AQ0-_"
      },
      "source": [
        "Use `=` to assign values to names. Names should start with a letter or underscore and may contain letters, digits, underscores.\n"
      ],
      "id": "8f_acv0AQ0-_"
    },
    {
      "cell_type": "code",
      "metadata": {
        "id": "Go_NZLzQQ0-_"
      },
      "execution_count": null,
      "outputs": [],
      "source": [
        "x = 2\n",
        "y = 3\n",
        "print(\"x =\", x, \" y =\", y)\n"
      ],
      "id": "Go_NZLzQQ0-_"
    },
    {
      "cell_type": "markdown",
      "metadata": {
        "id": "JeNyELiDQ0_A"
      },
      "source": [
        "## 4. Basic Operations <a id='basic-ops'></a>\n"
      ],
      "id": "JeNyELiDQ0_A"
    },
    {
      "cell_type": "markdown",
      "metadata": {
        "id": "nVN2MzEeQ0_B"
      },
      "source": [
        "Arithmetic with numbers:\n",
        "- `+`, `-`, `*`, `/` (true division), `//` (integer division), `%` (modulus), `**` (exponent).  \n",
        "Math functions: `math.exp`, `math.log`, `math.sin`, etc.\n"
      ],
      "id": "nVN2MzEeQ0_B"
    },
    {
      "cell_type": "code",
      "metadata": {
        "id": "fpI85BpQQ0_B"
      },
      "execution_count": null,
      "outputs": [],
      "source": [
        "x, y = 2, 3\n",
        "print(x + y, x**2, math.cos(math.pi * x / 2))\n",
        "print(\"mod:\", 7 % 3, \"int-div:\", 7 // 3)\n"
      ],
      "id": "fpI85BpQQ0_B"
    },
    {
      "cell_type": "markdown",
      "metadata": {
        "id": "QeweUxNVQ0_C"
      },
      "source": [
        "## 5. Relational Operations <a id='rel-ops'></a>\n"
      ],
      "id": "QeweUxNVQ0_C"
    },
    {
      "cell_type": "markdown",
      "metadata": {
        "id": "r5yEuwjPQ0_C"
      },
      "source": [
        "- `<`, `<=`, `>`, `>=`, `==`, `!=` return Booleans (`True`/`False`).  \n",
        "Also logical operators: `and`, `or`, `not`.\n"
      ],
      "id": "r5yEuwjPQ0_C"
    },
    {
      "cell_type": "code",
      "metadata": {
        "id": "OjComRu3Q0_C"
      },
      "execution_count": null,
      "outputs": [],
      "source": [
        "x, y = 2, 3\n",
        "print(x == y, x != y, x <= y)\n",
        "print(\"strings equal?\", \"Arnab\" == \"Maity\")\n"
      ],
      "id": "OjComRu3Q0_C"
    },
    {
      "cell_type": "markdown",
      "metadata": {
        "id": "aBLa1uywQ0_C"
      },
      "source": [
        "### Lists and Strings\n",
        "\n",
        "- Strings and lists are both sequence types: support indexing, slicing, iteration.\n",
        "- Create lists by literals `[ ]`, with `list()`, by appending, or with comprehensions:\n",
        "```python\n",
        "[x**2 for x in range(5) if x % 2 == 0]\n",
        "```\n",
        "- Negative indexing: `lst[-1]` returns the last element.\n",
        "- Strings behave like lists of characters: `\"hello\"[1] -> 'e'`.\n"
      ],
      "id": "aBLa1uywQ0_C"
    },
    {
      "cell_type": "markdown",
      "metadata": {
        "id": "gME2N7HMQ0_D"
      },
      "source": [
        "## 6. Lists, Tuples, and Dictionaries <a id='lists-tuples-dicts'></a>\n"
      ],
      "id": "gME2N7HMQ0_D"
    },
    {
      "cell_type": "markdown",
      "metadata": {
        "id": "xHeMWgb2Q0_D"
      },
      "source": [
        "- **List:** ordered, mutable sequence: `[1, 2, 3]`  \n",
        "- **Tuple:** ordered, immutable sequence: `(1, 2, 3)`  \n",
        "- **Dict:** key–value mapping: `{'name': 'Arnab', 'is_student': False}`  \n",
        "Index from 0 (not 1 as in R). Slicing uses `:` with half-open intervals.\n"
      ],
      "id": "xHeMWgb2Q0_D"
    },
    {
      "cell_type": "markdown",
      "metadata": {
        "id": "3ajtke42Q0_E"
      },
      "source": [
        "### Dictionaries\n",
        "\n",
        "- Dictionary = key–value pairs. Keys must be immutable (str, int, tuple). Values can be any object.\n",
        "- Create with `{}` or `dict()`. Also from zipped lists:\n",
        "```python\n",
        "keys = [\"a\",\"b\",\"c\"]; vals = [1,2,3]\n",
        "dict(zip(keys, vals))\n",
        "```\n",
        "- Methods: `.get()`, `.keys()`, `.values()`, `.items()`, `.update()`, `.pop()`.\n",
        "- Merge dictionaries with `{**dict1, **dict2}`.\n",
        "- Dictionary comprehensions: `{k: k**2 for k in range(5)}`.\n"
      ],
      "id": "3ajtke42Q0_E"
    },
    {
      "cell_type": "code",
      "metadata": {
        "id": "zia6fjudQ0_E"
      },
      "execution_count": null,
      "outputs": [],
      "source": [
        "lst = [1, 2, 3]\n",
        "tpl = (1, 2, 3)\n",
        "d = {'number': 23, 'name': 'Arnab', 'is_student': False}\n",
        "\n",
        "print(lst[0], tpl[1], d['name'])\n",
        "lst[1] = 31              # mutate list\n",
        "d['new_data'] = -23      # add new key\n",
        "lst, d\n"
      ],
      "id": "zia6fjudQ0_E"
    },
    {
      "cell_type": "markdown",
      "metadata": {
        "id": "En4rUJ4LQ0_F"
      },
      "source": [
        "## 7. NumPy Arrays (\"Vectors\") <a id='numpy-vectors'></a>\n"
      ],
      "id": "En4rUJ4LQ0_F"
    },
    {
      "cell_type": "markdown",
      "metadata": {
        "id": "wX7tRJXdQ0_F"
      },
      "source": [
        "### NumPy Arrays\n",
        "\n",
        "- NumPy arrays are faster than lists, require homogeneous data.\n",
        "- Attributes: `.shape` (dimensions), `.dtype` (data type), `.ndim` (number of dimensions).\n",
        "- Creation:\n",
        "  - `np.zeros((m,n))`, `np.ones((m,n))`, `np.full((m,n), value)`, `np.eye(n)` (identity), `np.random.random((m,n))`.\n",
        "- Reshape with `.reshape()`. Note: returns a **view** (not a copy) unless `.copy()` is used.\n",
        "- Vectorized operations are elementwise by default.\n",
        "- Linear algebra: `@` or `np.matmul` for matrix multiply, `np.linalg.inv`, `np.linalg.det`, `np.linalg.eig`.\n"
      ],
      "id": "wX7tRJXdQ0_F"
    },
    {
      "cell_type": "markdown",
      "metadata": {
        "id": "O0y9-5EFQ0_F"
      },
      "source": [
        "NumPy arrays are homogeneous, efficient n-dimensional arrays—ideal for vectorized math.  \n",
        "They behave like R atomic vectors for many operations.\n"
      ],
      "id": "O0y9-5EFQ0_F"
    },
    {
      "cell_type": "code",
      "metadata": {
        "id": "2SdxRBLYQ0_F"
      },
      "execution_count": null,
      "outputs": [],
      "source": [
        "a = np.array([5.1, 4.9, 4.7, 4.6, 5.0])\n",
        "b = np.array([3.5, 3.0, 3.2, 3.1, 3.6])\n",
        "a + b, a - b, 2 * a\n"
      ],
      "id": "2SdxRBLYQ0_F"
    },
    {
      "cell_type": "code",
      "metadata": {
        "id": "0EKGcmzsQ0_G"
      },
      "execution_count": null,
      "outputs": [],
      "source": [
        "# elementwise operations\n",
        "vec_one = np.array([1, 2, 3])\n",
        "np.log(vec_one)  # natural log elementwise\n"
      ],
      "id": "0EKGcmzsQ0_G"
    },
    {
      "cell_type": "code",
      "metadata": {
        "id": "B_IuhhiSQ0_G"
      },
      "execution_count": null,
      "outputs": [],
      "source": [
        "# indexing (0-based) and assignment\n",
        "print(vec_one[0])\n",
        "vec_one[1] = 31\n",
        "vec_one\n"
      ],
      "id": "B_IuhhiSQ0_G"
    },
    {
      "cell_type": "markdown",
      "metadata": {
        "id": "kSRCvzV0Q0_H"
      },
      "source": [
        "> Note: NumPy arrays do not have per-element names like R named vectors.  \n",
        "For name→value mappings use `dict` or `pandas.Series`.\n"
      ],
      "id": "kSRCvzV0Q0_H"
    },
    {
      "cell_type": "code",
      "metadata": {
        "id": "TlfOzgzZQ0_H"
      },
      "execution_count": null,
      "outputs": [],
      "source": [
        "import pandas as pd\n",
        "vec_named = pd.Series([91, 85, 99], index=['math', 'english', 'history'])\n",
        "vec_named['math'], vec_named.iloc[0]\n"
      ],
      "id": "TlfOzgzZQ0_H"
    },
    {
      "cell_type": "markdown",
      "metadata": {
        "id": "1pDuK85FQ0_H"
      },
      "source": [
        "## 8. Vector & Matrix Operations with NumPy <a id='vector-matrix'></a>\n"
      ],
      "id": "1pDuK85FQ0_H"
    },
    {
      "cell_type": "markdown",
      "metadata": {
        "id": "9CR_QsHgQ0_I"
      },
      "source": [
        "- Column vectors are 2D arrays with shape `(p, 1)`; row vectors have shape `(1, p)`.\n",
        "- **Inner (dot) product**: `a.T @ b` or `np.dot(a, b)` when shapes are compatible.\n",
        "- **Matrix multiplication**: `A @ B` (uses linear algebra rules, *not* elementwise).\n",
        "- **Transpose**: `A.T`.\n",
        "- **Elementwise** multiply: `A * B` (same shapes) or broadcasting.\n"
      ],
      "id": "9CR_QsHgQ0_I"
    },
    {
      "cell_type": "code",
      "metadata": {
        "id": "S5kdbV4QQ0_I"
      },
      "execution_count": null,
      "outputs": [],
      "source": [
        "a = np.array([[1], [0], [2], [5]])  # column vector (4x1)\n",
        "b = np.array([[2], [3], [1], [6]])  # column vector (4x1)\n",
        "inner = (a.T @ b).item()            # scalar\n",
        "inner\n"
      ],
      "id": "S5kdbV4QQ0_I"
    },
    {
      "cell_type": "code",
      "metadata": {
        "id": "KxHWdBUBQ0_c"
      },
      "execution_count": null,
      "outputs": [],
      "source": [
        "# elementwise product (Hadamard)\n",
        "(a.flatten() * b.flatten())\n"
      ],
      "id": "KxHWdBUBQ0_c"
    },
    {
      "cell_type": "code",
      "metadata": {
        "id": "5Bj_z64BQ0_c"
      },
      "execution_count": null,
      "outputs": [],
      "source": [
        "# matrices\n",
        "A = np.c_[ [0.71, 0.61, 0.72, 0.83, 0.92],\n",
        "           [0.63, 0.69, 0.77, 0.80, 1.00] ]\n",
        "B = np.array([[1,2,3,4,5],\n",
        "              [6,7,8,9,10]])\n",
        "\n",
        "A_plus_B = A + B.T      # shapes (5,2) and (5,2)\n",
        "A_minus_B = A - B.T\n",
        "C = A @ B               # (5,2) @ (2,5) -> (5,5)\n",
        "\n",
        "A.shape, B.shape, C.shape, C[1,2]\n"
      ],
      "id": "5Bj_z64BQ0_c"
    },
    {
      "cell_type": "code",
      "metadata": {
        "id": "WyPGzeNSQ0_d"
      },
      "execution_count": null,
      "outputs": [],
      "source": [
        "# Check a specific entry like in the handout (2nd row, 3rd col of C)\n",
        "# C[1,2] should match 0.61*5 + 0.69*6\n",
        "calc = 0.61*5 + 0.69*6\n",
        "C[1,2], calc\n"
      ],
      "id": "WyPGzeNSQ0_d"
    },
    {
      "cell_type": "code",
      "metadata": {
        "id": "m4rZ4C_QQ0_d"
      },
      "execution_count": null,
      "outputs": [],
      "source": [
        "# Other linear algebra: inverse, determinant, eigen, SVD\n",
        "M = np.array([[1., 2., 3.],\n",
        "              [1., 5., 8.]])\n",
        "MT = M.T\n",
        "# For square matrices:\n",
        "S = np.array([[2., 1.],\n",
        "              [1., 3.]])\n",
        "Sinv = np.linalg.inv(S)\n",
        "detS = np.linalg.det(S)\n",
        "eigvals, eigvecs = np.linalg.eig(S)\n",
        "U, s, VT = np.linalg.svd(S)\n",
        "detS, eigvals, s\n"
      ],
      "id": "m4rZ4C_QQ0_d"
    },
    {
      "cell_type": "markdown",
      "metadata": {
        "id": "NV-jOw_GQ0_e"
      },
      "source": [
        "## 9. pandas DataFrames <a id='dataframes'></a>\n"
      ],
      "id": "NV-jOw_GQ0_e"
    },
    {
      "cell_type": "markdown",
      "metadata": {
        "id": "igf_ETnsQ0_e"
      },
      "source": [
        "A DataFrame stores columns that can have different types (numeric, string, bool), analogous to R data frames.\n"
      ],
      "id": "igf_ETnsQ0_e"
    },
    {
      "cell_type": "code",
      "metadata": {
        "id": "TJlInH7VQ0_e"
      },
      "execution_count": null,
      "outputs": [],
      "source": [
        "df = pd.DataFrame({\n",
        "    'name': ['Arnab', 'Ana'],\n",
        "    'grade': [80, 93],\n",
        "    'is_graduate': [False, True]\n",
        "})\n",
        "df\n"
      ],
      "id": "TJlInH7VQ0_e"
    },
    {
      "cell_type": "code",
      "metadata": {
        "id": "3Mzxx3UhQ0_f"
      },
      "execution_count": null,
      "outputs": [],
      "source": [
        "df.shape, df.columns.tolist(), df.index.tolist()\n"
      ],
      "id": "3Mzxx3UhQ0_f"
    },
    {
      "cell_type": "code",
      "metadata": {
        "id": "GwrXyESBQ0_f"
      },
      "execution_count": null,
      "outputs": [],
      "source": [
        "# selection by label / position\n",
        "df.loc[:, ['name', 'grade']]    # columns by name\n"
      ],
      "id": "GwrXyESBQ0_f"
    },
    {
      "cell_type": "code",
      "metadata": {
        "id": "CoDY0VlzQ0_f"
      },
      "execution_count": null,
      "outputs": [],
      "source": [
        "# row/column by integer position\n",
        "df.iloc[[0,1], [0,1]]\n"
      ],
      "id": "CoDY0VlzQ0_f"
    },
    {
      "cell_type": "markdown",
      "metadata": {
        "id": "RxVCcHJAQ0_g"
      },
      "source": [
        "## 10. Control Flow <a id='control-flow'></a>\n"
      ],
      "id": "RxVCcHJAQ0_g"
    },
    {
      "cell_type": "markdown",
      "metadata": {
        "id": "4gv6raRoQ0_g"
      },
      "source": [
        "### If statements and Loops\n",
        "\n",
        "- `if` / `elif` / `else` check boolean conditions.\n",
        "- `for` loops iterate over any iterable (lists, strings, ranges).\n",
        "```python\n",
        "for i in range(5):\n",
        "    print(i)\n",
        "```\n",
        "- Use `enumerate(iterable)` to loop with index and value.\n",
        "- Use `while condition:` for repeated execution until condition is false.\n",
        "- `break` exits loop; `continue` skips current iteration.\n"
      ],
      "id": "4gv6raRoQ0_g"
    },
    {
      "cell_type": "markdown",
      "metadata": {
        "id": "q1DDxAx1Q0_h"
      },
      "source": [
        "Use `if` / `elif` / `else`. Conditions must be scalar booleans.\n"
      ],
      "id": "q1DDxAx1Q0_h"
    },
    {
      "cell_type": "code",
      "metadata": {
        "id": "MT4uFToJQ0_h"
      },
      "execution_count": null,
      "outputs": [],
      "source": [
        "numeric_grade = 85\n",
        "letter_grade = None\n",
        "\n",
        "if numeric_grade > 70:\n",
        "    letter_grade = \"S\"\n",
        "else:\n",
        "    letter_grade = \"U\"\n",
        "\n",
        "letter_grade\n"
      ],
      "id": "MT4uFToJQ0_h"
    },
    {
      "cell_type": "markdown",
      "metadata": {
        "id": "XSxVhDudQ0_h"
      },
      "source": [
        "## 11. Functions <a id='functions'></a>\n"
      ],
      "id": "XSxVhDudQ0_h"
    },
    {
      "cell_type": "markdown",
      "metadata": {
        "id": "u-UbdLrQQ0_i"
      },
      "source": [
        "### User-Defined Functions\n",
        "\n",
        "- Functions are defined with `def`. Use a docstring (``) to describe purpose and args.\n",
        "- Default arguments: `def f(x, power=2): return x**power`. Avoid mutable defaults!\n",
        "- Functions create local scope unless declared `global`.\n",
        "- Arguments can be passed by name: `f(x=3, power=5)`.\n",
        "- Example of trimmed mean function with optional parameter `p` to remove outliers.\n",
        "\n",
        "### Setting a Seed\n",
        "- For reproducibility in random numbers: `np.random.seed(123)` or new RNG with `np.random.default_rng(123)`.\n"
      ],
      "id": "u-UbdLrQQ0_i"
    },
    {
      "cell_type": "markdown",
      "metadata": {
        "id": "pLhmAJGyQ0_i"
      },
      "source": [
        "Define functions with `def`. Return values with `return`. Operations broadcast over NumPy arrays.\n"
      ],
      "id": "pLhmAJGyQ0_i"
    },
    {
      "cell_type": "code",
      "metadata": {
        "id": "kar1szIsQ0_i"
      },
      "execution_count": null,
      "outputs": [],
      "source": [
        "def my_fun(x):\n",
        "    x = np.asarray(x)\n",
        "    return np.sin(1 / (x**2))\n",
        "\n",
        "y = 2\n",
        "my_fun(y), my_fun([1,2,3])\n"
      ],
      "id": "kar1szIsQ0_i"
    },
    {
      "cell_type": "code",
      "metadata": {
        "id": "UJaToaifQ0_j"
      },
      "execution_count": null,
      "outputs": [],
      "source": [
        "# Practice: given matrix X and vector y, compute (X^T X)^{-1} X^T y\n",
        "def ols_closed_form(X, y):\n",
        "    X = np.asarray(X, dtype=float)\n",
        "    y = np.asarray(y, dtype=float).reshape(-1, 1)\n",
        "    beta = np.linalg.inv(X.T @ X) @ X.T @ y\n",
        "    return beta\n",
        "\n",
        "X = np.c_[np.ones(5), np.arange(5)]\n",
        "y = np.array([1, 2, 1.5, 3, 2.7])\n",
        "ols_closed_form(X, y)\n"
      ],
      "id": "UJaToaifQ0_j"
    }
  ]
}